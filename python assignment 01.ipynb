{
 "cells": [
  {
   "cell_type": "markdown",
   "metadata": {},
   "source": [
    "#1.\n",
    "\n",
    "values : 'hello', -87.8, 6\n",
    "\n",
    "expressions : *, -, /, +\n"
   ]
  },
  {
   "cell_type": "markdown",
   "metadata": {},
   "source": [
    "#2.\n",
    "\n",
    "Difference between string and variable \n",
    "\n",
    "string : string is a data type. strings are immutable.\n",
    "\n",
    "variable : variable in python is a reserved memory location to store values.\n"
   ]
  },
  {
   "cell_type": "markdown",
   "metadata": {},
   "source": [
    "#3.\n",
    "\n",
    "Three different data types \n",
    "\n",
    "1. string : string is a sequence of unicode characters. We can use single quotes or double quotes to represent strings. Triple quotes used to denote multiline strings.\n",
    "\n",
    "eg : 'hello'\n",
    "\n",
    "2. Dictionary : Dictionary is another type of data type in python. dictionary is an anordered collection of key-value pairs. Dictionaries are defined within braces {} with each item being a pair in the form key:value. we use key to retrive the respective value.\n",
    "\n",
    "eg : d = {1:'name', 'addr':2}\n",
    "\n",
    "3. set : set is an unordered collection of unique items. set is defined within braces {} values seperated by comma. set eliminates duplicates. set is immutable.\n",
    "\n",
    "eg : a = {1, 2, 3, 4, 5}"
   ]
  },
  {
   "cell_type": "markdown",
   "metadata": {},
   "source": [
    "#4\n",
    "\n",
    "Expression is a combination of values, variables, and calls to functions.\n",
    "\n",
    "expressions evaluate down to a single value."
   ]
  },
  {
   "cell_type": "markdown",
   "metadata": {},
   "source": [
    "#5\n",
    "\n",
    "Expression is a combination of values, variables that evaluates down to a single value.\n",
    "\n",
    "Statements represent an action or a command. eg: print statements, assignment statements."
   ]
  },
  {
   "cell_type": "code",
   "execution_count": 3,
   "metadata": {},
   "outputs": [
    {
     "data": {
      "text/plain": [
       "23"
      ]
     },
     "execution_count": 3,
     "metadata": {},
     "output_type": "execute_result"
    }
   ],
   "source": [
    "#6.\n",
    "\n",
    "bacon = 22\n",
    "bacon + 1"
   ]
  },
  {
   "cell_type": "code",
   "execution_count": 8,
   "metadata": {},
   "outputs": [
    {
     "data": {
      "text/plain": [
       "'spamspamspam'"
      ]
     },
     "execution_count": 8,
     "metadata": {},
     "output_type": "execute_result"
    }
   ],
   "source": [
    "#7.\n",
    "\n",
    "a = 'spam' + 'spamspam'\n",
    "b = 'spam' * 3\n",
    "a\n",
    "b"
   ]
  },
  {
   "cell_type": "markdown",
   "metadata": {},
   "source": [
    "#8.\n",
    "\n",
    "A variable name starts with a letter, but a variable name cannot start with a number.\n",
    "\n",
    "That's why eggs is a valid variable name while 100 is invalid. "
   ]
  },
  {
   "cell_type": "markdown",
   "metadata": {},
   "source": [
    "#9\n",
    "\n",
    "The int(), float(), and str() functions can be used to get the integer, floating-point number, or string version of a value respectively."
   ]
  },
  {
   "cell_type": "markdown",
   "metadata": {},
   "source": [
    "#10. \n",
    "\n",
    "'I have eaten' + 99 + 'burritos'\n",
    "\n",
    "This expression cause an error because python can concatenate string to string, not string to integer. \n",
    "\n",
    "This expression can be fixed by converting integer(99) to string.\n",
    "\n",
    "'I have eaten' + '99' + 'burritos'"
   ]
  },
  {
   "cell_type": "code",
   "execution_count": null,
   "metadata": {},
   "outputs": [],
   "source": []
  }
 ],
 "metadata": {
  "kernelspec": {
   "display_name": "Python 3",
   "language": "python",
   "name": "python3"
  },
  "language_info": {
   "codemirror_mode": {
    "name": "ipython",
    "version": 3
   },
   "file_extension": ".py",
   "mimetype": "text/x-python",
   "name": "python",
   "nbconvert_exporter": "python",
   "pygments_lexer": "ipython3",
   "version": "3.8.3"
  }
 },
 "nbformat": 4,
 "nbformat_minor": 4
}
